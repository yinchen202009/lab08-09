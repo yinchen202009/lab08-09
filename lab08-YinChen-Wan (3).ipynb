{
 "cells": [
  {
   "cell_type": "markdown",
   "metadata": {},
   "source": [
    "# Lab8\n",
    "\n",
    "This lab involves:\n",
    "1. Running\tSPAdes"
   ]
  },
  {
   "cell_type": "markdown",
   "metadata": {},
   "source": [
    "# Running SPAdes\n",
    "\n",
    "First, to run it inside a “screen” so that it continues running\teven if you\tdisconnect from the\tserver. In the terminal:\n",
    "```\n",
    "screen\n",
    "```\n",
    "\n",
    "\n",
    "Use **SPAdes**,\tthe hybrid\tgenome\tassembler, to take in the high quality short read sets(illumina_reads_R1.fastq – first paired-end read; illumina_reads_R2.fastq – second paired-end read) and high error rate long-read set(pacbio_reads.fastq – long\tPacBio\treads) in the 'data/lab8' directory.\n",
    "\n",
    "In the screen, the assembly will start by running the command:\n",
    "\n",
    "```\n",
    "spades -t 1 -1 data/lab8/illumina_reads_R1.fastq -2 data/lab8/illumina_reads_R2.fastq --pacbio data/lab8/pacbio_reads.fastq -o yin_chen_lab08\n",
    "```\n",
    "\n",
    "It is then left to assemble on its own.\n",
    "\n",
    "## Why\tdo\twe\texpect\tshort\treads\tto\tproduce\ta\tmore\tfragmented\tassembly\tthan\tlong reads?\n",
    "To assemble a genome, first we generated paired-end-reads from plasmid vectors, for example, by Sanger sequencing can only generate sequence of 1kb from each end of the DNA insert in the plasmid vector. Contiguous sequences(sequences that overlap) are collapsed into a contig, which is a computational smallest unit of genome assembly. Paired-end reads can generate a scaffold from contigs. \n",
    "\n",
    "Short reads matches up different small fragments together, but it may be hard to tell their exact positions in relative to one another. For example, we assembled contigs A, B, C and D from shorter reads. It may be hard to decide, especially if the sequence at the ends of each contig does not overlap, whether the contigs are arrange by the order ABCD, ACBD, BDCA, etc., let alone that a genome is made up of hundreds or even thousands of contigs. We can tell some contigs are side by sides, while others don't, producing a more _fragmented_ assembly than long reads.\n",
    "\n",
    "Thus, with a long read, we can identify the positions of contigs in relative to each other, illustrated by the image below:\n",
    "<img src=\"reads.png\" width=\"30%\">\n",
    "\n",
    "## Why\tdoes\ta\tsingle-molecule\tsequencing\tlike\tPacBio\thave a higher\terror\trate\tthan\tIllumina?\n",
    "PacBio uses Single molecule real time sequencing (SMRT) DNA sequencing method. A single DNA polymerase enzyme is fixed at the bottom of a ZMW, is a structure that allow us to observe only a single nucleotide of DNA being incorporated by DNA polymerase. Each of the four DNA bases is attached to one of four different fluorescent dyes. When a nucleotide is incorporated by the DNA polymerase, the fluorescent tag is cleaved off and diffuses out of the observation area of the ZMW where its fluorescence is no longer observable. A detector will detect the fluorescent signal of the nucleotide incorporation, and the base call is made according to the corresponding fluorescence of the dye.\n",
    "\n",
    "On the other hand, Illumina sequencing uses the sequencing by synthesis (SBS) technology after amplifying each template DNA to about 1000 copies. During each sequencing cycle, a single labeled deoxynucleoside triphosphate (dNTP) is added to the nucleic acid chain. The nucleotide label serves as a terminator for polymerization, so after each dNTP incorporation, the fluorescent dye is imaged to identify the base and then enzymatically cleaved to allow incorporation of the next nucleotide.\n",
    "\n",
    "The amplification gives stronger signal to be detected and thus probably accounts for why Illumina reads are more accurate for shorter reads. For longer reads, sequencing starts to go out-of-phase due to DNA polymerase error.\n",
    "\n"
   ]
  },
  {
   "cell_type": "code",
   "execution_count": null,
   "metadata": {},
   "outputs": [],
   "source": []
  }
 ],
 "metadata": {
  "kernelspec": {
   "display_name": "Python 3",
   "language": "python",
   "name": "python3"
  },
  "language_info": {
   "codemirror_mode": {
    "name": "ipython",
    "version": 3
   },
   "file_extension": ".py",
   "mimetype": "text/x-python",
   "name": "python",
   "nbconvert_exporter": "python",
   "pygments_lexer": "ipython3",
   "version": "3.6.6"
  }
 },
 "nbformat": 4,
 "nbformat_minor": 2
}
